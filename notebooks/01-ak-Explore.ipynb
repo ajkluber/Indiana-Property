{
 "cells": [
  {
   "cell_type": "code",
   "execution_count": 1,
   "metadata": {},
   "outputs": [],
   "source": [
    "import pandas as pd\n",
    "import panel as pn"
   ]
  },
  {
   "cell_type": "code",
   "execution_count": 17,
   "metadata": {},
   "outputs": [],
   "source": [
    "header_widths = [10,2,20,5,40,18,10,4,4,4,60,60,50,18,48,5,5,100]"
   ]
  },
  {
   "cell_type": "code",
   "execution_count": 8,
   "metadata": {},
   "outputs": [],
   "source": [
    "pers_property_widths = [25, 25, 4, 3, 3, 8, 25, 60, \n",
    "          30, 10, 3, 12, 5, 5, 5, 80,\n",
    "          60, 30, 30, 10, 3, 10] \\\n",
    "        +  13*[1] + [3,5,1] + 20*[12] \\\n",
    "        + [10, 2, 12,12,5,500,1,12,12,12]"
   ]
  },
  {
   "cell_type": "code",
   "execution_count": 24,
   "metadata": {},
   "outputs": [],
   "source": [
    "real_col_info = [25,25,4,3,3,8,25,60,\n",
    "                        30,10,3,12,5,5,5,80,\n",
    "                        60,30,30,10,3,10] \\\n",
    "                    + 13*[1] + [3,5,1] + 20*[12] \\\n",
    "                    + [10,2,12,12,5,500,1,12,12,12]"
   ]
  },
  {
   "cell_type": "code",
   "execution_count": 25,
   "metadata": {},
   "outputs": [
    {
     "data": {
      "text/plain": [
       "68"
      ]
     },
     "execution_count": 25,
     "metadata": {},
     "output_type": "execute_result"
    }
   ],
   "source": [
    "len(real_property_widths)"
   ]
  },
  {
   "cell_type": "code",
   "execution_count": 26,
   "metadata": {},
   "outputs": [],
   "source": [
    "real_cols = [\n",
    "    ('ParcelNum',25,\n",
    "    ('LocalParcelNum',\n",
    "    ('TownshipNum',\n",
    "    ('TaxDistrictNum',\n",
    "    ('SectionPlat',\n",
    "    ('RoutingNum',\n",
    "    ('PropAddress',\n",
    "    ('PropCity',\n",
    "    ('PropZIP',\n",
    "    ('PropClass',\n",
    "    ('NeighID',\n",
    "    ('NeighFactor',\n",
    "    ('AdjFactorLand',\n",
    "    'AdjFactorImprovements',\n",
    "    'Owner',\n",
    "    'OwnerAddress',\n",
    "    'OwnerCity',\n",
    "    'OwnerState',\n",
    "    'OwnerPostal',\n",
    "    'OwnerCountry',\n",
    "    'DateToOwner',\n",
    "    'Level',\n",
    "    'High',\n",
    "    'Low',\n",
    "    'Rolling',\n",
    "    'Swampy',\n",
    "    'Water',\n",
    "    'Sewer',\n",
    "    'Gas', \n",
    "    'Electricity',\n",
    "    'StreetCode',\n",
    "    'Sidewalk',\n",
    "    'Alley',\n",
    "    'NeighType',\n",
    "    'WaterPropType',\n",
    "    'Zoning',\n",
    "    'FloodHazard',\n",
    "    'ValueLand',\n",
    "    'ValueImprove',\n",
    "    'ValueTotal',\n",
    "    'AdjustmentLand',\n",
    "    'AdjustmentImprove',\n",
    "    'AdjustmentFarm',\n",
    "    'ValueLandBreaker',\n",
    "    'ValueImproveBreaker',\n",
    "    'ValueNonHomeLandBreaker',\n",
    "    'ValueNonHomeImprBreaker',\n",
    "    'ValueAptLand',\n",
    "    'ValueAptImpr',\n",
    "    'ValueCareLandBreaker',\n",
    "    'ValueCareImproveBreaker',\n",
    "    'ValueFarmBreaker',\n",
    "    'ValueMobileBreaker',\n",
    "    'Land3Breaker',\n",
    "    'Improve3Breaker',\n",
    "    'ClassifiedLand',\n",
    "    'DeededAcreage',\n",
    "    'AppraisalDate',\n",
    "    'ReasonCodeChange',\n",
    "    'PriorValueLand',\n",
    "    'PriorImprove',\n",
    "    'AdjustmentFactor',\n",
    "    'LegalDescription',\n",
    "    'Anonymous',\n",
    "    'CurrentValueLand',\n",
    "    'CurrentValueImprove',\n",
    "    'CurrentValueTotal',\n",
    "]"
   ]
  },
  {
   "cell_type": "code",
   "execution_count": 27,
   "metadata": {},
   "outputs": [
    {
     "data": {
      "text/plain": [
       "67"
      ]
     },
     "execution_count": 27,
     "metadata": {},
     "output_type": "execute_result"
    }
   ],
   "source": [
    "len(real_cols)"
   ]
  },
  {
   "cell_type": "code",
   "execution_count": 10,
   "metadata": {},
   "outputs": [],
   "source": [
    "pers_fname = 'PersProp_Delaware_18_2018P2019.txt'"
   ]
  },
  {
   "cell_type": "code",
   "execution_count": 13,
   "metadata": {},
   "outputs": [],
   "source": [
    "real_fname = 'RealParcel_Delaware_18_2018P2019.txt'"
   ]
  },
  {
   "cell_type": "code",
   "execution_count": 12,
   "metadata": {},
   "outputs": [
    {
     "name": "stdout",
     "output_type": "stream",
     "text": [
      "'50 IAC 26 Data File Specifications.pdf'\n",
      " Header_PersProp_Delaware_18_2019P2019.txt\n",
      "\u001b[0m\u001b[01;34m'Joe Photos'\u001b[0m/\n",
      " PersProp_Delaware_18_2018P2019.txt\n",
      " \u001b[01;31mPersProp_Delaware_18_2018p2019.zip\u001b[0m\n",
      " RealParcel_Delaware_18_2018P2019.txt\n",
      " \u001b[01;31mrealparcel_Delaware_18_2018p2019.zip\u001b[0m\n",
      " Sunbeam_Microwave_Manual.pdf\n",
      " Untitled.ipynb\n",
      "\u001b[01;34m'Wedding Photos from Mark'\u001b[0m/\n"
     ]
    }
   ],
   "source": [
    "ls"
   ]
  },
  {
   "cell_type": "code",
   "execution_count": 5,
   "metadata": {},
   "outputs": [],
   "source": [
    "df = pd.read_fwf(fname, widths=widths)"
   ]
  },
  {
   "cell_type": "code",
   "execution_count": 6,
   "metadata": {},
   "outputs": [
    {
     "data": {
      "text/plain": [
       "(4139, 68)"
      ]
     },
     "execution_count": 6,
     "metadata": {},
     "output_type": "execute_result"
    }
   ],
   "source": [
    "df.shape"
   ]
  },
  {
   "cell_type": "code",
   "execution_count": 7,
   "metadata": {},
   "outputs": [
    {
     "data": {
      "text/plain": [
       "Index(['10517960', '1   1  B4101', 'S ME', 'EKE', 'R A', 'VE', 'Unnamed: 6',\n",
       "       'MUNCIE                        47302     GREAT AM',\n",
       "       'ERICA LEASING CORPORATION', 'Unnamed: 9', 'Unnamed: 10', 'Unnamed: 11',\n",
       "       'Unnamed: 12', 'Unnamed: 13', 'Unnamed: 14', 'Unnamed: 15',\n",
       "       '625 1ST STREET SE', 'CEDAR RAPIDS', 'IA', '52401', 'Unnamed: 20',\n",
       "       'USA103LO0', 'Unnamed: 22', 'Unnamed: 23', 'Unnamed: 24', 'Unnamed: 25',\n",
       "       'Unnamed: 26', 'Unnamed: 27', 'Unnamed: 28', 'Unnamed: 29',\n",
       "       'Unnamed: 30', 'Unnamed: 31', 'Unnamed: 32', '2', '6', '770',\n",
       "       'Unnamed: 36', 'Unnamed: 37', '5324200', 'Unnamed: 39', 'Unnamed: 40',\n",
       "       'Unnamed: 41', 'Unnamed: 42', 'Unnamed: 43', 'Unnamed: 44',\n",
       "       'Unnamed: 45', 'Unnamed: 46', 'Unnamed: 47', 'Unnamed: 48',\n",
       "       'Unnamed: 49', 'Unnamed: 50', 'Unnamed: 51', 'Unnamed: 52',\n",
       "       'Unnamed: 53', 'Unnamed: 54', 'Unnamed: 55', 'Unnamed: 56',\n",
       "       'Unnamed: 57', 'Unnamed: 58', 'Unnamed: 59', 'Unnamed: 60',\n",
       "       'Unnamed: 61', 'Unnamed: 62', 'Unnamed: 63', 'Unnamed: 64',\n",
       "       'Unnamed: 65', 'Unnamed: 66', 'Unnamed: 67'],\n",
       "      dtype='object')"
      ]
     },
     "execution_count": 7,
     "metadata": {},
     "output_type": "execute_result"
    }
   ],
   "source": [
    "df.columns"
   ]
  },
  {
   "cell_type": "code",
   "execution_count": 14,
   "metadata": {},
   "outputs": [],
   "source": [
    "real_df = pd.read_fwf(real_fname, widths=real_property_widths)"
   ]
  },
  {
   "cell_type": "code",
   "execution_count": 15,
   "metadata": {},
   "outputs": [
    {
     "data": {
      "text/plain": [
       "(59305, 68)"
      ]
     },
     "execution_count": 15,
     "metadata": {},
     "output_type": "execute_result"
    }
   ],
   "source": [
    "real_df.shape"
   ]
  },
  {
   "cell_type": "code",
   "execution_count": 30,
   "metadata": {},
   "outputs": [
    {
     "data": {
      "text/plain": [
       "1286"
      ]
     },
     "execution_count": 30,
     "metadata": {},
     "output_type": "execute_result"
    }
   ],
   "source": [
    "sum(real_property_widths)"
   ]
  }
 ],
 "metadata": {
  "kernelspec": {
   "display_name": "Python 3",
   "language": "python",
   "name": "python3"
  },
  "language_info": {
   "codemirror_mode": {
    "name": "ipython",
    "version": 3
   },
   "file_extension": ".py",
   "mimetype": "text/x-python",
   "name": "python",
   "nbconvert_exporter": "python",
   "pygments_lexer": "ipython3",
   "version": "3.7.8"
  }
 },
 "nbformat": 4,
 "nbformat_minor": 4
}
